{
 "cells": [
  {
   "cell_type": "code",
   "execution_count": null,
   "metadata": {},
   "outputs": [],
   "source": [
    "from hybridbrep import GeneralConvEncDec, BRepFaceAutoencoder, HybridPartDataset\n",
    "import json\n",
    "from zipfile import ZipFile\n",
    "import torch\n",
    "from tqdm import tqdm\n",
    "import numpy as np\n",
    "from matplotlib import pyplot as plt\n",
    "from train_latent_space import BRepFaceAutoencoder as OldAutoencoder, BRepDS as OldDS\n",
    "import altair as alt\n",
    "import pandas as pd"
   ]
  },
  {
   "cell_type": "code",
   "execution_count": null,
   "metadata": {},
   "outputs": [],
   "source": [
    "old_model = BRepFaceAutoencoder(64, 1024, 4, True)\n",
    "new_model = GeneralConvEncDec(64, 1024, 4)\n",
    "\n",
    "old_ckpt_path = '/home/ben/Documents/research/repbrep/training_logs/reconstruction/old_with_loops/version_0/checkpoints/epoch=54-val_loss=0.002403.ckpt'\n",
    "new_ckpt_path = '/home/ben/Documents/research/repbrep/training_logs/reconstruction/new_with_edges/version_1/checkpoints/epoch=183-val_loss=0.002646.ckpt'\n",
    "\n",
    "old_ckpt = torch.load(old_ckpt_path)\n",
    "new_ckpt = torch.load(new_ckpt_path)\n",
    "\n",
    "old_model.load_state_dict(old_ckpt['state_dict'])\n",
    "new_model.load_state_dict(new_ckpt['state_dict'])"
   ]
  },
  {
   "cell_type": "code",
   "execution_count": null,
   "metadata": {},
   "outputs": [],
   "source": [
    "with ZipFile('../../datasets/fusion360seg_hpart_fixed.zip','r') as zf:\n",
    "    names = [n for n in zf.namelist() if n.endswith('.stp')]\n",
    "    "
   ]
  },
  {
   "cell_type": "code",
   "execution_count": null,
   "metadata": {},
   "outputs": [],
   "source": [
    "ds_test = HybridPartDataset('../../datasets/fusion360seg.json', '../../datasets/fusion360seg_hpart_fixed.zip', mode='test')"
   ]
  },
  {
   "cell_type": "code",
   "execution_count": null,
   "metadata": {},
   "outputs": [],
   "source": [
    "av_xzy_dist_old = []\n",
    "av_mask_abs_error_old = []\n",
    "\n",
    "with torch.no_grad():\n",
    "    for data in tqdm(ds_test):\n",
    "        uvs = data.surface_coords.reshape((-1,2))\n",
    "        uv_idx = torch.arange(data.surface_coords.shape[0]).repeat_interleave(data.surface_coords.shape[1])\n",
    "        target = torch.cat([data.surface_samples[:,:,:3],data.surface_samples[:,:,-1].unsqueeze(-1)],dim=-1)\n",
    "        pred = old_model(data, uvs, uv_idx).reshape_as(target)\n",
    "        diffs = (pred - target)\n",
    "        av_xyz_dist = (diffs[:,:,:3]**2).sum(dim=-1).sqrt().mean()\n",
    "        av_mask_abs_error = diffs[:,:,-1].abs().mean()\n",
    "\n",
    "        av_xzy_dist_old.append(av_xyz_dist)\n",
    "        av_mask_abs_error_old.append(av_mask_abs_error)"
   ]
  },
  {
   "cell_type": "code",
   "execution_count": null,
   "metadata": {},
   "outputs": [],
   "source": [
    "av_xyz_dist_old = [x.item() for x in av_xzy_dist_old]\n",
    "av_mask_abs_error_old = [x.item() for x in av_mask_abs_error_old]"
   ]
  },
  {
   "cell_type": "code",
   "execution_count": null,
   "metadata": {},
   "outputs": [],
   "source": [
    "av_xyz_dist_new = []\n",
    "av_mask_abs_error_new = []\n",
    "\n",
    "with torch.no_grad():\n",
    "    for data in tqdm(ds_test):\n",
    "        face_codes, face_preds = new_model.enc_dec(data, data.surface_coords)\n",
    "        target = torch.cat([data.surface_samples[:,:,:3],data.surface_samples[:,:,-1].unsqueeze(-1)],dim=-1)\n",
    "        pred = face_preds.reshape_as(target)\n",
    "        diffs = (pred - target)\n",
    "        av_xyz_dist = (diffs[:,:,:3]**2).sum(dim=-1).sqrt().mean().item()\n",
    "        av_mask_abs_error = diffs[:,:,-1].abs().mean().item()\n",
    "\n",
    "        av_xyz_dist_new.append(av_xyz_dist)\n",
    "        av_mask_abs_error_new.append(av_mask_abs_error)\n"
   ]
  },
  {
   "cell_type": "code",
   "execution_count": null,
   "metadata": {},
   "outputs": [],
   "source": [
    "orig_model = OldAutoencoder(64, 1024, 4)\n",
    "orig_ckpt_path = '../../models/BRepFaceAutoencoder_64_1024_4/BRepFaceAutoencoder_64_1024_4.ckpt'\n",
    "orig_ckpt = torch.load(orig_ckpt_path)\n",
    "orig_model.load_state_dict(orig_ckpt['state_dict'])\n",
    "orig_index_path = '/media/ben/Data/fusion360segmentation/simple_train_test.json'\n",
    "orig_data_path = '/media/ben/Data/fusion360segmentation/simple_preprocessed'\n",
    "orig_ds_test = OldDS(orig_index_path, orig_data_path, mode='test')"
   ]
  },
  {
   "cell_type": "code",
   "execution_count": null,
   "metadata": {},
   "outputs": [],
   "source": [
    "av_xzy_dist_orig = []\n",
    "av_mask_abs_error_orig = []\n",
    "\n",
    "with torch.no_grad():\n",
    "    for data in tqdm(orig_ds_test):\n",
    "        uvs = data.surface_coords.reshape((-1,2))\n",
    "        uv_idx = torch.arange(data.surface_coords.shape[0]).repeat_interleave(data.surface_coords.shape[1])\n",
    "        target = torch.cat([data.surface_samples[:,:,:3],data.surface_samples[:,:,-1].unsqueeze(-1)],dim=-1)\n",
    "        pred = orig_model(data, uvs, uv_idx).reshape_as(target)\n",
    "        diffs = (pred - target)\n",
    "        av_xyz_dist = (diffs[:,:,:3]**2).sum(dim=-1).sqrt().mean()\n",
    "        av_mask_abs_error = diffs[:,:,-1].abs().mean()\n",
    "\n",
    "        av_xzy_dist_orig.append(av_xyz_dist)\n",
    "        av_mask_abs_error_orig.append(av_mask_abs_error)"
   ]
  },
  {
   "cell_type": "code",
   "execution_count": null,
   "metadata": {},
   "outputs": [],
   "source": [
    "print(np.mean([x.item() for x in av_xzy_dist_orig]))\n",
    "print(np.mean([x.item() for x in av_mask_abs_error_orig]))"
   ]
  },
  {
   "cell_type": "code",
   "execution_count": null,
   "metadata": {},
   "outputs": [],
   "source": [
    "with open(orig_index_path, 'r') as f:\n",
    "    orig_index = json.load(f)\n",
    "with open('../../datasets/fusion360seg.json','r') as f:\n",
    "    new_index = json.load(f)"
   ]
  },
  {
   "cell_type": "code",
   "execution_count": null,
   "metadata": {},
   "outputs": [],
   "source": [
    "av_xyz_dist_orig_new_sampling = []\n",
    "av_mask_abs_error_orig_new_sampling = []\n",
    "\n",
    "with torch.no_grad():\n",
    "    for i in tqdm(range(len(orig_ds_test))):\n",
    "        data = orig_ds_test[i]\n",
    "        data_new = ds_test[i]\n",
    "        uvs = data_new.surface_coords.reshape((-1,2))\n",
    "        uv_idx = torch.arange(data_new.surface_coords.shape[0]).repeat_interleave(data_new.surface_coords.shape[1])\n",
    "        target = torch.cat([data_new.surface_samples[:,:,:3],data_new.surface_samples[:,:,-1].unsqueeze(-1)],dim=-1)\n",
    "        pred = orig_model(data, uvs, uv_idx).reshape_as(target)\n",
    "        diffs = (pred - target)\n",
    "        av_xyz_dist = (diffs[:,:,:3]**2).sum(dim=-1).sqrt().mean().item()\n",
    "        av_mask_abs_error = diffs[:,:,-1].abs().mean().item()\n",
    "\n",
    "        av_xyz_dist_orig_new_sampling.append(av_xyz_dist)\n",
    "        av_mask_abs_error_orig_new_sampling.append(av_mask_abs_error)"
   ]
  },
  {
   "cell_type": "code",
   "execution_count": null,
   "metadata": {},
   "outputs": [],
   "source": [
    "print('Old Network, New Data')\n",
    "print(np.mean(av_xyz_dist_old))\n",
    "print(np.mean(av_mask_abs_error_old))\n",
    "\n",
    "print('New Network, New Data')\n",
    "print(np.mean(av_xyz_dist_new))\n",
    "print(np.mean(av_mask_abs_error_new))\n",
    "\n",
    "print('Old Network, Old Data (test old data)')\n",
    "print(np.mean([x.item() for x in av_xzy_dist_orig]))\n",
    "print(np.mean([x.item() for x in av_mask_abs_error_orig]))\n",
    "\n",
    "print('Old Network, Old Data, (test new data)')\n",
    "print(np.mean(av_xyz_dist_orig_new_sampling))\n",
    "print(np.mean(av_mask_abs_error_orig_new_sampling))"
   ]
  },
  {
   "cell_type": "code",
   "execution_count": null,
   "metadata": {},
   "outputs": [],
   "source": [
    "records = []\n",
    "for test_idx, xyz_dist in enumerate(av_xyz_dist_old):\n",
    "    records.append({\n",
    "        'test_idx':test_idx,\n",
    "        'model':'Old Network, New Data',\n",
    "        'metric':'xyz_dist',\n",
    "        'value': xyz_dist\n",
    "    })\n",
    "for test_idx, xyz_dist in enumerate(av_mask_abs_error_old):\n",
    "    records.append({\n",
    "        'test_idx':test_idx,\n",
    "        'model':'Old Network, New Data',\n",
    "        'metric':'mask_error',\n",
    "        'value': xyz_dist\n",
    "    })\n",
    "\n",
    "for test_idx, xyz_dist in enumerate(av_xyz_dist_new):\n",
    "    records.append({\n",
    "        'test_idx':test_idx,\n",
    "        'model':'New Network, New Data',\n",
    "        'metric':'xyz_dist',\n",
    "        'value': xyz_dist\n",
    "    })\n",
    "for test_idx, mask_error in enumerate(av_mask_abs_error_new):\n",
    "    records.append({\n",
    "        'test_idx':test_idx,\n",
    "        'model':'New Network, New Data',\n",
    "        'metric':'mask_error',\n",
    "        'value': mask_error\n",
    "    })\n",
    "\n",
    "for test_idx, xyz_dist in enumerate(av_xyz_dist_orig_new_sampling):\n",
    "    records.append({\n",
    "        'test_idx':test_idx,\n",
    "        'model':'Old Network, Old Data',\n",
    "        'metric':'xyz_dist',\n",
    "        'value': xyz_dist\n",
    "    })\n",
    "for test_idx, mask_error in enumerate(av_mask_abs_error_orig_new_sampling):\n",
    "    records.append({\n",
    "        'test_idx':test_idx,\n",
    "        'model':'Old Network, Old Data',\n",
    "        'metric':'mask_error',\n",
    "        'value': mask_error\n",
    "    })\n",
    "\n",
    "error_rec = pd.DataFrame.from_records(records)"
   ]
  },
  {
   "cell_type": "code",
   "execution_count": null,
   "metadata": {},
   "outputs": [],
   "source": [
    "error_rec.to_parquet('../../results/recon_ablations.parquet')"
   ]
  },
  {
   "cell_type": "code",
   "execution_count": null,
   "metadata": {},
   "outputs": [],
   "source": [
    "error_rec = pd.read_parquet('../../results/recon_ablations.parquet')"
   ]
  },
  {
   "cell_type": "code",
   "execution_count": null,
   "metadata": {},
   "outputs": [],
   "source": [
    "len(error_rec[error_rec.model == 'New Network, New Data'])"
   ]
  },
  {
   "cell_type": "code",
   "execution_count": null,
   "metadata": {},
   "outputs": [],
   "source": [
    "error_rec.groupby(['metric','model']).agg({'value':np.mean}).reset_index()"
   ]
  },
  {
   "cell_type": "code",
   "execution_count": null,
   "metadata": {},
   "outputs": [],
   "source": [
    "alt.Chart(error_rec.groupby(['metric','model']).agg({'value':np.mean}).reset_index()).mark_bar().encode(\n",
    "    x='model',\n",
    "    color='model',\n",
    "    y='value',\n",
    "    column='metric'\n",
    ")"
   ]
  },
  {
   "cell_type": "code",
   "execution_count": null,
   "metadata": {},
   "outputs": [],
   "source": [
    "print( ((.025**2)/3)**(1/2) )\n",
    "print( ((.015**2)/2)**(1/2) )"
   ]
  },
  {
   "cell_type": "code",
   "execution_count": null,
   "metadata": {},
   "outputs": [],
   "source": [
    "alt.data_transformers.disable_max_rows()\n",
    "source = error_rec\n",
    "\n",
    "bars = alt.Chart().mark_bar().encode(\n",
    "    x='model',\n",
    "    y=alt.Y('mean(value):Q', title='Mean Value'),\n",
    "    color='model',\n",
    ")\n",
    "\n",
    "error_bars = alt.Chart().mark_errorbar(extent='ci').encode(\n",
    "    x='model',\n",
    "    y='value'\n",
    ")\n",
    "\n",
    "alt.layer(bars, error_bars, data=source).facet(\n",
    "    column='metric'\n",
    ")"
   ]
  },
  {
   "cell_type": "code",
   "execution_count": null,
   "metadata": {},
   "outputs": [],
   "source": [
    "len(error_rec)"
   ]
  },
  {
   "cell_type": "code",
   "execution_count": null,
   "metadata": {},
   "outputs": [],
   "source": []
  }
 ],
 "metadata": {
  "kernelspec": {
   "display_name": "Python 3.9.13 ('hybridbrep')",
   "language": "python",
   "name": "python3"
  },
  "language_info": {
   "codemirror_mode": {
    "name": "ipython",
    "version": 3
   },
   "file_extension": ".py",
   "mimetype": "text/x-python",
   "name": "python",
   "nbconvert_exporter": "python",
   "pygments_lexer": "ipython3",
   "version": "3.9.13"
  },
  "orig_nbformat": 4,
  "vscode": {
   "interpreter": {
    "hash": "6aa2ac8926c38c90b9dbe4656179f4fe9d7aa58f584c2a3569efb38019544a4b"
   }
  }
 },
 "nbformat": 4,
 "nbformat_minor": 2
}
