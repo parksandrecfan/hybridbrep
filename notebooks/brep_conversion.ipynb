{
 "cells": [
  {
   "cell_type": "code",
   "execution_count": 1,
   "metadata": {},
   "outputs": [],
   "source": [
    "import math\n",
    "import OCC.Core.BRepBuilderAPI as BRepBuilderAPI\n",
    "import OCC.Core.Geom as Geom\n",
    "from OCC.Core.GeomAPI import GeomAPI_IntSS, GeomAPI_ExtremaCurveCurve, GeomAPI_ProjectPointOnCurve\n",
    "from OCC.Core.Extrema import Extrema_POnCurv\n",
    "from OCC.Core.gp import gp_Pnt, gp_Lin, gp_Ax1, gp_Dir, gp_Elips, gp_Ax2, gp_Ax3\n",
    "from OCC.Core.BRepBuilderAPI import (\n",
    "    BRepBuilderAPI_MakeEdge, \n",
    "    BRepBuilderAPI_MakeVertex, \n",
    "    BRepBuilderAPI_MakeFace,\n",
    "    BRepBuilderAPI_MakeWire,\n",
    "    BRepBuilderAPI_MakeShell,\n",
    "    BRepBuilderAPI_MakeSolid   \n",
    ")\n",
    "from OCC.Core.BRep import BRep_Builder\n",
    "from OCC.Core.TColgp import TColgp_Array1OfPnt\n",
    "from OCC.Core.Geom import Geom_BezierCurve\n",
    "from OCC.Display.WebGl.jupyter_renderer import JupyterRenderer\n",
    "from OCC.Core.TopoDS import TopoDS_Shell, TopoDS_Face, TopoDS_Solid\n",
    "\n",
    "from OCC.Core.STEPControl import STEPControl_Writer, STEPControl_AsIs\n",
    "from OCC.Core.IFSelect import IFSelect_RetDone\n",
    "\n",
    "from OCC.Core.gp import (\n",
    "    gp_Ax1,\n",
    "    gp_Ax3,\n",
    "    gp_Dir,\n",
    "    gp_Pnt\n",
    ")\n",
    "from OCC.Core.Geom import (\n",
    "    Geom_Plane,\n",
    "    Geom_CylindricalSurface,\n",
    "    Geom_ConicalSurface,\n",
    "    Geom_SphericalSurface,\n",
    "    Geom_ToroidalSurface,\n",
    "    Geom_Line,\n",
    "    Geom_Circle,\n",
    "    Geom_Ellipse\n",
    ")\n",
    "\n",
    "from OCC.Core.BRep import (\n",
    "    BRep_Builder\n",
    ")\n",
    "\n",
    "from OCC.Core.BRepBuilderAPI import (\n",
    "    BRepBuilderAPI_MakeVertex,\n",
    "    BRepBuilderAPI_MakeEdge,\n",
    "    BRepBuilderAPI_MakeWire,\n",
    "    BRepBuilderAPI_MakeFace\n",
    ")\n",
    "\n",
    "import OCC.Core"
   ]
  },
  {
   "cell_type": "code",
   "execution_count": 2,
   "metadata": {},
   "outputs": [],
   "source": [
    "from hybridbrep import HPart\n",
    "import os"
   ]
  },
  {
   "cell_type": "code",
   "execution_count": 3,
   "metadata": {},
   "outputs": [],
   "source": [
    "repbrep_path = '../../'\n",
    "holybox2_path = os.path.join(repbrep_path, 'datasets', 'holybox', 'holey_box_angled.step')\n",
    "\n",
    "target_part_path = holybox2_path\n",
    "target_part = HPart(target_part_path, normalize=False).data\n",
    "target_part_normalized = HPart(target_part_path, normalize=True).data"
   ]
  },
  {
   "cell_type": "code",
   "execution_count": 4,
   "metadata": {},
   "outputs": [],
   "source": [
    "def make_surface(surface_type, params):\n",
    "    origin = params[:3]\n",
    "    normal = params[3:6]\n",
    "    axis = params[6:9]\n",
    "    ref_dir = params[9:12]\n",
    "    radius = params[12]\n",
    "    minor_radius = params[13]\n",
    "    semi_angle = params[14]\n",
    "    # TODO - orthonormalize coordinate system if necessary\n",
    "    if surface_type == 0:\n",
    "        cs = gp_Ax3(gp_Pnt(*origin), gp_Dir(*normal), gp_Dir(*ref_dir))\n",
    "    else:\n",
    "        cs = gp_Ax3(gp_Pnt(*origin), gp_Dir(*axis), gp_Dir(*ref_dir))\n",
    "\n",
    "    if surface_type == 0:\n",
    "        return Geom_Plane(cs)\n",
    "    elif surface_type == 1:\n",
    "        return Geom_CylindricalSurface(cs, radius)\n",
    "    elif surface_type == 2:\n",
    "        return Geom_ConicalSurface(cs, semi_angle, radius)\n",
    "    elif surface_type == 3:\n",
    "        return Geom_SphericalSurface(cs, radius)\n",
    "    elif surface_type == 4:\n",
    "        return Geom_ToroidalSurface(cs, radius, minor_radius)\n",
    "\n",
    "def make_surfaces(faces):\n",
    "    types = faces[:,:5].argmax(dim=1)\n",
    "    parameters = faces[:,5:-1]\n",
    "    flipped = faces[:,-1]\n",
    "\n",
    "    surfaces = [\n",
    "        make_surface(t.detach().cpu().tolist(), p.detach().cpu().tolist()) for t,p in zip(types, parameters)\n",
    "    ]\n",
    "\n",
    "    return surfaces\n",
    "\n",
    "def make_curve(curve_type, params):\n",
    "    origin = params[:3]\n",
    "    direction = params[3:6]\n",
    "    axis = params[6:9]\n",
    "    x_dir = params[9:12]\n",
    "    radius = params[12]\n",
    "    minor_radius = params[13]\n",
    "\n",
    "    if curve_type == 0:\n",
    "        return Geom_Line(gp_Pnt(*origin), gp_Dir(*direction))\n",
    "    elif curve_type == 1:\n",
    "        return Geom_Circle(gp_Ax2(gp_Pnt(*origin), gp_Dir(*axis), gp_Dir(*x_dir)), radius)\n",
    "    elif curve_type ==2:\n",
    "        return Geom_Ellipse(gp_Ax2(gp_Pnt(*origin), gp_Dir(*axis), gp_Dir(*x_dir)), radius, minor_radius)\n",
    "\n",
    "def make_curves(edges):\n",
    "    types = edges[:,:3].argmax(dim=1)\n",
    "    parameters = edges[:,3:-1]\n",
    "    flipped = edges[:,-1]\n",
    "\n",
    "    edges = [\n",
    "        make_curve(t.detach().cpu().tolist(), p.detach().cpu().tolist()) for t,p in zip(types, parameters)\n",
    "    ]\n",
    "\n",
    "    return edges\n",
    "\n",
    "def data_to_brep(data):\n",
    "    data = data.detach().cpu()\n",
    "    surfaces = make_surfaces(data.faces)\n",
    "    curves = make_curves(data.edges)\n",
    "    points = [gp_Pnt(*v.tolist()) for v in data.vertices]\n",
    "\n",
    "    vertices = [BRepBuilderAPI_MakeVertex(p).Vertex() for p in points]\n",
    "\n",
    "    edge_vertices = dict()\n",
    "    for (vertex,edge), is_start in zip(data.vertex_to_edge.T.numpy(), data.vertex_to_edge_is_start.numpy()):\n",
    "        verts = edge_vertices.get(edge,[])\n",
    "        verts = [vertex] + verts if is_start else verts + [vertex]\n",
    "        edge_vertices[edge] = verts\n",
    "\n",
    "    edges = []\n",
    "    for i,(curve,reversed) in enumerate(zip(curves, data.edges[:,-1].numpy().astype(bool))):\n",
    "        verts = [vertices[j] for j in edge_vertices[i]]\n",
    "        if len(verts) == 1: # Double up vertex if there is only one\n",
    "            verts = verts*2\n",
    "        edge_builder = BRepBuilderAPI_MakeEdge(curve, *verts)\n",
    "        edge = edge_builder.Edge()\n",
    "        if reversed:\n",
    "            edge.Reverse()\n",
    "        edges.append(edge)\n",
    "\n",
    "    loop_edges = {}\n",
    "    for (edge, loop), flipped in zip(data.edge_to_loop.T.numpy(), data.edge_to_loop_flipped.numpy().astype(bool)):\n",
    "        l_edges = loop_edges.get(loop, [])\n",
    "        e = (edges[edge], edge_vertices[edge])\n",
    "        if flipped:\n",
    "            e[1].reverse()\n",
    "        l_edges.append(e)\n",
    "        loop_edges[loop] = l_edges\n",
    "    \n",
    "    wires = []\n",
    "    for loop, l_edges in loop_edges.items():\n",
    "        # re-order edges if necessary\n",
    "        if False > 0:\n",
    "            ordered_edges = []\n",
    "            ordered_edges.append(l_edges[0][0])\n",
    "            next_start = l_edges[0][1][-1]\n",
    "            used_edges = {0}\n",
    "            for i,e in enumerate(l_edges):\n",
    "                if i in used_edges:\n",
    "                    continue\n",
    "                if e[1][0] == next_start:\n",
    "                    used_edges.add(i)\n",
    "                    next_start = e[1][-1]\n",
    "                    ordered_edges.append(e[0])\n",
    "                    break\n",
    "            assert len(used_edges) == len(l_edges)\n",
    "        else:\n",
    "            ordered_edges = [e[0] for e in l_edges]\n",
    "        \n",
    "        wire = BRepBuilderAPI_MakeWire()\n",
    "        for e in ordered_edges:\n",
    "            wire.Add(e)\n",
    "        wires.append(wire.Wire())\n",
    "\n",
    "    return vertices, edges, wires\n",
    "\n",
    "wires, edges, vertices = data_to_brep(target_part)"
   ]
  },
  {
   "cell_type": "code",
   "execution_count": 5,
   "metadata": {},
   "outputs": [],
   "source": [
    "def render_shapes(shapes):\n",
    "    my_renderer = JupyterRenderer()\n",
    "    for shape in shapes:\n",
    "        my_renderer.DisplayShape(shape)\n",
    "    return my_renderer.Display()"
   ]
  },
  {
   "cell_type": "code",
   "execution_count": 6,
   "metadata": {},
   "outputs": [
    {
     "data": {
      "application/vnd.jupyter.widget-view+json": {
       "model_id": "b5c787b46f3649e88e133fb26801c6b8",
       "version_major": 2,
       "version_minor": 0
      },
      "text/plain": [
       "HBox(children=(VBox(children=(HBox(children=(Checkbox(value=True, description='Axes', layout=Layout(height='au…"
      ]
     },
     "metadata": {},
     "output_type": "display_data"
    }
   ],
   "source": [
    "render_shapes(edges)"
   ]
  },
  {
   "cell_type": "code",
   "execution_count": 15,
   "metadata": {},
   "outputs": [
    {
     "data": {
      "text/plain": [
       "<class 'TopLoc_Location'>"
      ]
     },
     "execution_count": 15,
     "metadata": {},
     "output_type": "execute_result"
    }
   ],
   "source": [
    "edges[0].Location()"
   ]
  },
  {
   "cell_type": "code",
   "execution_count": 30,
   "metadata": {},
   "outputs": [],
   "source": [
    "e = edges[0]\n",
    "s = e.TShape()"
   ]
  },
  {
   "cell_type": "code",
   "execution_count": 31,
   "metadata": {},
   "outputs": [
    {
     "data": {
      "text/plain": [
       "<class 'TopoDS_TShape'>"
      ]
     },
     "execution_count": 31,
     "metadata": {},
     "output_type": "execute_result"
    }
   ],
   "source": [
    "s"
   ]
  },
  {
   "cell_type": "code",
   "execution_count": 35,
   "metadata": {},
   "outputs": [],
   "source": [
    "import OCC.Core.ShapeAnalysis"
   ]
  },
  {
   "cell_type": "code",
   "execution_count": 36,
   "metadata": {},
   "outputs": [],
   "source": [
    "sae = OCC.Core.ShapeAnalysis.ShapeAnalysis_Edge()"
   ]
  },
  {
   "cell_type": "code",
   "execution_count": 37,
   "metadata": {},
   "outputs": [],
   "source": [
    "from OCC.Core.Geom import Geom_Curve"
   ]
  },
  {
   "cell_type": "code",
   "execution_count": 40,
   "metadata": {},
   "outputs": [
    {
     "ename": "TypeError",
     "evalue": "in method 'ShapeAnalysis_Edge_Curve3d', argument 3 of type 'opencascade::handle< Geom_Curve > &'",
     "output_type": "error",
     "traceback": [
      "\u001b[0;31m---------------------------------------------------------------------------\u001b[0m",
      "\u001b[0;31mTypeError\u001b[0m                                 Traceback (most recent call last)",
      "\u001b[1;32m/home/ben/Documents/research/repbrep/hybridbrep/notebooks/brep_conversion.ipynb Cell 13\u001b[0m in \u001b[0;36m<cell line: 5>\u001b[0;34m()\u001b[0m\n\u001b[1;32m      <a href='vscode-notebook-cell://ssh-remote%2Bdegravity.net/home/ben/Documents/research/repbrep/hybridbrep/notebooks/brep_conversion.ipynb#X14sdnNjb2RlLXJlbW90ZQ%3D%3D?line=2'>3</a>\u001b[0m cl \u001b[39m=\u001b[39m \u001b[39m0.0\u001b[39m\n\u001b[1;32m      <a href='vscode-notebook-cell://ssh-remote%2Bdegravity.net/home/ben/Documents/research/repbrep/hybridbrep/notebooks/brep_conversion.ipynb#X14sdnNjb2RlLXJlbW90ZQ%3D%3D?line=3'>4</a>\u001b[0m orient \u001b[39m=\u001b[39m \u001b[39mFalse\u001b[39;00m\n\u001b[0;32m----> <a href='vscode-notebook-cell://ssh-remote%2Bdegravity.net/home/ben/Documents/research/repbrep/hybridbrep/notebooks/brep_conversion.ipynb#X14sdnNjb2RlLXJlbW90ZQ%3D%3D?line=4'>5</a>\u001b[0m sae\u001b[39m.\u001b[39;49mCurve3d(e, c, orient)\n",
      "File \u001b[0;32m~/anaconda3/envs/hybridbrep/lib/python3.9/site-packages/OCC/Core/ShapeAnalysis.py:1733\u001b[0m, in \u001b[0;36mShapeAnalysis_Edge.Curve3d\u001b[0;34m(self, *args)\u001b[0m\n\u001b[1;32m   1716\u001b[0m \u001b[39mdef\u001b[39;00m \u001b[39mCurve3d\u001b[39m(\u001b[39mself\u001b[39m, \u001b[39m*\u001b[39margs) \u001b[39m-\u001b[39m\u001b[39m>\u001b[39m \u001b[39m\"\u001b[39m\u001b[39mStandard_Boolean\u001b[39m\u001b[39m\"\u001b[39m:\n\u001b[1;32m   1717\u001b[0m     \u001b[39mr\u001b[39m\u001b[39m\"\"\"\u001b[39;00m\n\u001b[1;32m   1718\u001b[0m \u001b[39m    Returns the 3d curve and bounding parameteres for the edge returns false if no 3d curve. if <orient> is true (default), takes orientation into account: if the edge is reversed, cf and cl are toggled.\u001b[39;00m\n\u001b[1;32m   1719\u001b[0m \n\u001b[0;32m   (...)\u001b[0m\n\u001b[1;32m   1731\u001b[0m \n\u001b[1;32m   1732\u001b[0m \u001b[39m    \"\"\"\u001b[39;00m\n\u001b[0;32m-> 1733\u001b[0m     \u001b[39mreturn\u001b[39;00m _ShapeAnalysis\u001b[39m.\u001b[39;49mShapeAnalysis_Edge_Curve3d(\u001b[39mself\u001b[39;49m, \u001b[39m*\u001b[39;49margs)\n",
      "\u001b[0;31mTypeError\u001b[0m: in method 'ShapeAnalysis_Edge_Curve3d', argument 3 of type 'opencascade::handle< Geom_Curve > &'"
     ]
    }
   ],
   "source": [
    "c = 0\n",
    "cf = 0.0\n",
    "cl = 0.0\n",
    "orient = False\n",
    "sae.Curve3d(e, c, orient)"
   ]
  },
  {
   "cell_type": "code",
   "execution_count": 43,
   "metadata": {},
   "outputs": [
    {
     "data": {
      "text/plain": [
       "True"
      ]
     },
     "execution_count": 43,
     "metadata": {},
     "output_type": "execute_result"
    }
   ],
   "source": [
    "sae.HasCurve3d(e)"
   ]
  },
  {
   "cell_type": "code",
   "execution_count": 44,
   "metadata": {},
   "outputs": [],
   "source": [
    "import OCC.Core.BRep"
   ]
  },
  {
   "cell_type": "code",
   "execution_count": 46,
   "metadata": {},
   "outputs": [],
   "source": [
    "curve, start, end = OCC.Core.BRep.BRep_Tool.Curve(e, e.Location())"
   ]
  },
  {
   "cell_type": "code",
   "execution_count": 48,
   "metadata": {},
   "outputs": [],
   "source": [
    "import numpy as np"
   ]
  },
  {
   "cell_type": "code",
   "execution_count": 60,
   "metadata": {},
   "outputs": [
    {
     "data": {
      "application/vnd.jupyter.widget-view+json": {
       "model_id": "4e00e549311a40a0bbbc1eb6cc8981ff",
       "version_major": 2,
       "version_minor": 0
      },
      "text/plain": [
       "Renderer(camera=PerspectiveCamera(children=(DirectionalLight(color='white', intensity=0.6, position=(-0.019886…"
      ]
     },
     "metadata": {},
     "output_type": "display_data"
    },
    {
     "data": {
      "text/plain": [
       "1"
      ]
     },
     "execution_count": 60,
     "metadata": {},
     "output_type": "execute_result"
    }
   ],
   "source": [
    "import meshplot as mp\n",
    "ppc = 100\n",
    "pnts = []\n",
    "colors = []\n",
    "for e in edges:\n",
    "    curve, start, end = OCC.Core.BRep.BRep_Tool.Curve(e, e.Location())\n",
    "    for t in np.linspace(start, end, ppc):\n",
    "        p = curve.Value(t)\n",
    "        pnts.append([p.X(), p.Y(), p.Z()])\n",
    "    cs = np.linspace(0,1,ppc)\n",
    "    colors.append(cs)\n",
    "pnts = np.array(pnts)\n",
    "colors = np.concatenate(colors)\n",
    "pl = mp.plot(target_part.V.numpy(), target_part.F.T.numpy(), return_plot=True)\n",
    "pl.add_points(pnts, c=colors)"
   ]
  },
  {
   "cell_type": "code",
   "execution_count": 55,
   "metadata": {},
   "outputs": [],
   "source": []
  },
  {
   "cell_type": "code",
   "execution_count": 58,
   "metadata": {},
   "outputs": [
    {
     "data": {
      "application/vnd.jupyter.widget-view+json": {
       "model_id": "a10bb03806fb441fb624b15258e54418",
       "version_major": 2,
       "version_minor": 0
      },
      "text/plain": [
       "Renderer(camera=PerspectiveCamera(children=(DirectionalLight(color='white', intensity=0.6, position=(-0.019886…"
      ]
     },
     "metadata": {},
     "output_type": "display_data"
    },
    {
     "data": {
      "text/plain": [
       "<meshplot.Viewer.Viewer at 0x7f3bd7a6f4c0>"
      ]
     },
     "execution_count": 58,
     "metadata": {},
     "output_type": "execute_result"
    }
   ],
   "source": []
  },
  {
   "cell_type": "code",
   "execution_count": null,
   "metadata": {},
   "outputs": [],
   "source": []
  }
 ],
 "metadata": {
  "kernelspec": {
   "display_name": "Python 3.9.13 ('hybridbrep')",
   "language": "python",
   "name": "python3"
  },
  "language_info": {
   "codemirror_mode": {
    "name": "ipython",
    "version": 3
   },
   "file_extension": ".py",
   "mimetype": "text/x-python",
   "name": "python",
   "nbconvert_exporter": "python",
   "pygments_lexer": "ipython3",
   "version": "3.9.13"
  },
  "vscode": {
   "interpreter": {
    "hash": "6aa2ac8926c38c90b9dbe4656179f4fe9d7aa58f584c2a3569efb38019544a4b"
   }
  }
 },
 "nbformat": 4,
 "nbformat_minor": 4
}
