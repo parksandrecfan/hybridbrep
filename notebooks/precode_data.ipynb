{
 "cells": [
  {
   "cell_type": "code",
   "execution_count": null,
   "metadata": {},
   "outputs": [],
   "source": [
    "from hybridbrep import GeneralConvEncDec, BRepFaceAutoencoder, HybridPartDataset\n",
    "import json\n",
    "from zipfile import ZipFile\n",
    "import torch\n",
    "from tqdm import tqdm\n",
    "import numpy as np\n",
    "from matplotlib import pyplot as plt\n",
    "from train_latent_space import BRepFaceAutoencoder as OldAutoencoder, BRepDS as OldDS\n",
    "import altair as alt\n",
    "import pandas as pd"
   ]
  },
  {
   "cell_type": "code",
   "execution_count": null,
   "metadata": {},
   "outputs": [],
   "source": [
    "old_model = BRepFaceAutoencoder(64, 1024, 4, True)\n",
    "new_model = GeneralConvEncDec(64, 1024, 4)\n",
    "\n",
    "old_ckpt_path = '/home/ben/Documents/research/repbrep/training_logs/reconstruction/old_with_loops/version_0/checkpoints/epoch=54-val_loss=0.002403.ckpt'\n",
    "new_ckpt_path = '/home/ben/Documents/research/repbrep/training_logs/reconstruction/new_with_edges/version_1/checkpoints/epoch=183-val_loss=0.002646.ckpt'\n",
    "\n",
    "old_ckpt = torch.load(old_ckpt_path)\n",
    "new_ckpt = torch.load(new_ckpt_path)\n",
    "\n",
    "old_model.load_state_dict(old_ckpt['state_dict'])\n",
    "new_model.load_state_dict(new_ckpt['state_dict'])"
   ]
  },
  {
   "cell_type": "code",
   "execution_count": null,
   "metadata": {},
   "outputs": [],
   "source": [
    "from hybridbrep import HybridPartDataset"
   ]
  },
  {
   "cell_type": "code",
   "execution_count": null,
   "metadata": {},
   "outputs": [],
   "source": [
    "ds = HybridPartDataset('../../datasets/fabwave.json', '../../datasets/fabwave_hpart_500_40.zip', '../../datasets/fabwave.zip', normalize=True, sort_frac=.4)"
   ]
  },
  {
   "cell_type": "code",
   "execution_count": null,
   "metadata": {},
   "outputs": [],
   "source": [
    "with open('../../datasets/fabwave.json','r') as f:\n",
    "    index = json.load(f)\n",
    "train_names = [index['template'].format(*k) for k in index['train']]\n",
    "test_names = [index['template'].format(*k) for k in index['test']]\n",
    "names = train_names + test_names\n",
    "with ZipFile('../../datasets/fabwave_hpart_500_40.zip','r') as zf:\n",
    "    data = []\n",
    "    for n in tqdm(names):\n",
    "        with zf.open(n, 'r') as f:\n",
    "            data.append((n, torch.load(f)))"
   ]
  },
  {
   "cell_type": "code",
   "execution_count": null,
   "metadata": {},
   "outputs": [],
   "source": []
  },
  {
   "cell_type": "code",
   "execution_count": null,
   "metadata": {},
   "outputs": [],
   "source": [
    "labels = {}\n",
    "\n",
    "for i in range(len(index['train'])):\n",
    "    k = index['train'][i]\n",
    "    n = index['template'].format(*k)\n",
    "    l = torch.tensor(index['train_labels'][i]).long()\n",
    "    labels[n] = l\n",
    "\n",
    "for i in range(len(index['test'])):\n",
    "    k = index['test'][i]\n",
    "    n = index['template'].format(*k)\n",
    "    l = torch.tensor(index['test_labels'][i]).long()\n",
    "    labels[n] = l"
   ]
  },
  {
   "cell_type": "code",
   "execution_count": null,
   "metadata": {},
   "outputs": [],
   "source": [
    "new_precoded = {}\n",
    "with torch.no_grad():\n",
    "    for n, hdata in tqdm(data):\n",
    "        y = labels[n]\n",
    "        x = new_model.encode_faces(hdata).float()\n",
    "        edge_index = hdata.face_to_face[:2].long()\n",
    "        new_precoded[n] = {\n",
    "            'x':x,\n",
    "            'y':y,\n",
    "            'edge_index':edge_index\n",
    "        }"
   ]
  },
  {
   "cell_type": "code",
   "execution_count": null,
   "metadata": {},
   "outputs": [],
   "source": [
    "torch.save(new_precoded,'../../datasets/fabwave_precoded_new_model_new_data.pt')"
   ]
  },
  {
   "cell_type": "code",
   "execution_count": null,
   "metadata": {},
   "outputs": [],
   "source": []
  }
 ],
 "metadata": {
  "kernelspec": {
   "display_name": "Python 3.9.13 ('hybridbrep')",
   "language": "python",
   "name": "python3"
  },
  "language_info": {
   "codemirror_mode": {
    "name": "ipython",
    "version": 3
   },
   "file_extension": ".py",
   "mimetype": "text/x-python",
   "name": "python",
   "nbconvert_exporter": "python",
   "pygments_lexer": "ipython3",
   "version": "3.9.13"
  },
  "orig_nbformat": 4,
  "vscode": {
   "interpreter": {
    "hash": "6aa2ac8926c38c90b9dbe4656179f4fe9d7aa58f584c2a3569efb38019544a4b"
   }
  }
 },
 "nbformat": 4,
 "nbformat_minor": 2
}
